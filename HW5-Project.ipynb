{
 "cells": [
  {
   "cell_type": "markdown",
   "metadata": {},
   "source": [
    "<h1 align = \"center\">HW 5 Project</h1>"
   ]
  },
  {
   "cell_type": "markdown",
   "metadata": {},
   "source": [
    "<h2>A Project by-</h2><br>Shobhit Lamba<br>UIN: 655612480"
   ]
  },
  {
   "cell_type": "markdown",
   "metadata": {},
   "source": [
    "<h2> Problem statement:</h2>"
   ]
  },
  {
   "cell_type": "markdown",
   "metadata": {},
   "source": [
    "I have chosen to do option 1, which goes as follows-<br>Option 1: You\tare working\tfor\ta\tnon-profit\tthat\tis\trecruiting student\tvolunteers\tto help\twith\tAlzheimer’s\t\n",
    "patients. You\thave\tbeen\ttasked\twith\tpredicting how\tsuitable\ta\tperson\tis\tfor\tthis\ttask\tby\tpredicting\thow\t\n",
    "empathetic\the\tor\tshe\tis.\tUsing\tthe\tYoung\tPeople\tSurvey dataset\n",
    "(https://www.kaggle.com/miroslavsabo/young-people-survey/),\tpredict\ta\tperson’s\t“empathy” on\ta\tscale\t\n",
    "from\t1\tto\t5.\tYou\tcan\tuse\tany\tof\tthe\tother\tattributes\tin\tthe\tdataset\tto\tmake\tthis\tprediction."
   ]
  },
  {
   "cell_type": "markdown",
   "metadata": {},
   "source": [
    "<h2> Importing the required libraries</h2><br>\n",
    "All the required functions are imported here."
   ]
  },
  {
   "cell_type": "code",
   "execution_count": 1,
   "metadata": {},
   "outputs": [],
   "source": [
    "# Importing the libraries\n",
    "import warnings\n",
    "import pandas as pd\n",
    "import numpy as np\n",
    "import matplotlib.pyplot as plt\n",
    "\n",
    "from sklearn.model_selection import train_test_split\n",
    "from sklearn.feature_selection import SelectKBest, chi2\n",
    "from sklearn.naive_bayes import MultinomialNB, GaussianNB\n",
    "from sklearn.linear_model import LogisticRegression\n",
    "from sklearn.neural_network import MLPClassifier\n",
    "from sklearn.svm import SVC\n",
    "from sklearn import tree\n",
    "from sklearn.neighbors import KNeighborsClassifier\n",
    "from sklearn.ensemble import RandomForestClassifier, VotingClassifier\n",
    "from sklearn.ensemble import AdaBoostClassifier, BaggingClassifier\n",
    "from sklearn.metrics import accuracy_score\n",
    "\n",
    "warnings.filterwarnings(action='ignore', category=DeprecationWarning) # To ignore a DeprecatedWarning caused by VotingClassifier"
   ]
  },
  {
   "cell_type": "markdown",
   "metadata": {},
   "source": [
    "<h2>Part 1: Data Preprocessing</h2><br>I decided to not do much preprocessing for the data here. I tried doing feature scaling, label and one-hot encoding the columns with categorical values but they did not show enough progress for me to give more time to them."
   ]
  },
  {
   "cell_type": "code",
   "execution_count": 2,
   "metadata": {},
   "outputs": [
    {
     "data": {
      "text/html": [
       "<div>\n",
       "<style scoped>\n",
       "    .dataframe tbody tr th:only-of-type {\n",
       "        vertical-align: middle;\n",
       "    }\n",
       "\n",
       "    .dataframe tbody tr th {\n",
       "        vertical-align: top;\n",
       "    }\n",
       "\n",
       "    .dataframe thead th {\n",
       "        text-align: right;\n",
       "    }\n",
       "</style>\n",
       "<table border=\"1\" class=\"dataframe\">\n",
       "  <thead>\n",
       "    <tr style=\"text-align: right;\">\n",
       "      <th></th>\n",
       "      <th>Music</th>\n",
       "      <th>Slow songs or fast songs</th>\n",
       "      <th>Dance</th>\n",
       "      <th>Folk</th>\n",
       "      <th>Country</th>\n",
       "      <th>Classical music</th>\n",
       "      <th>Musical</th>\n",
       "      <th>Pop</th>\n",
       "      <th>Rock</th>\n",
       "      <th>Metal or Hardrock</th>\n",
       "      <th>...</th>\n",
       "      <th>Shopping centres</th>\n",
       "      <th>Branded clothing</th>\n",
       "      <th>Entertainment spending</th>\n",
       "      <th>Spending on looks</th>\n",
       "      <th>Spending on gadgets</th>\n",
       "      <th>Spending on healthy eating</th>\n",
       "      <th>Age</th>\n",
       "      <th>Height</th>\n",
       "      <th>Weight</th>\n",
       "      <th>Number of siblings</th>\n",
       "    </tr>\n",
       "  </thead>\n",
       "  <tbody>\n",
       "    <tr>\n",
       "      <th>0</th>\n",
       "      <td>5.0</td>\n",
       "      <td>3.0</td>\n",
       "      <td>2.0</td>\n",
       "      <td>1.0</td>\n",
       "      <td>2.0</td>\n",
       "      <td>2.0</td>\n",
       "      <td>1.0</td>\n",
       "      <td>5.0</td>\n",
       "      <td>5.0</td>\n",
       "      <td>1.0</td>\n",
       "      <td>...</td>\n",
       "      <td>4.0</td>\n",
       "      <td>5.0</td>\n",
       "      <td>3.0</td>\n",
       "      <td>3.0</td>\n",
       "      <td>1</td>\n",
       "      <td>3.0</td>\n",
       "      <td>20.0</td>\n",
       "      <td>163.0</td>\n",
       "      <td>48.0</td>\n",
       "      <td>1.0</td>\n",
       "    </tr>\n",
       "    <tr>\n",
       "      <th>1</th>\n",
       "      <td>4.0</td>\n",
       "      <td>4.0</td>\n",
       "      <td>2.0</td>\n",
       "      <td>1.0</td>\n",
       "      <td>1.0</td>\n",
       "      <td>1.0</td>\n",
       "      <td>2.0</td>\n",
       "      <td>3.0</td>\n",
       "      <td>5.0</td>\n",
       "      <td>4.0</td>\n",
       "      <td>...</td>\n",
       "      <td>4.0</td>\n",
       "      <td>1.0</td>\n",
       "      <td>4.0</td>\n",
       "      <td>2.0</td>\n",
       "      <td>5</td>\n",
       "      <td>2.0</td>\n",
       "      <td>19.0</td>\n",
       "      <td>163.0</td>\n",
       "      <td>58.0</td>\n",
       "      <td>2.0</td>\n",
       "    </tr>\n",
       "    <tr>\n",
       "      <th>2</th>\n",
       "      <td>5.0</td>\n",
       "      <td>5.0</td>\n",
       "      <td>2.0</td>\n",
       "      <td>2.0</td>\n",
       "      <td>3.0</td>\n",
       "      <td>4.0</td>\n",
       "      <td>5.0</td>\n",
       "      <td>3.0</td>\n",
       "      <td>5.0</td>\n",
       "      <td>3.0</td>\n",
       "      <td>...</td>\n",
       "      <td>4.0</td>\n",
       "      <td>1.0</td>\n",
       "      <td>4.0</td>\n",
       "      <td>3.0</td>\n",
       "      <td>4</td>\n",
       "      <td>2.0</td>\n",
       "      <td>20.0</td>\n",
       "      <td>176.0</td>\n",
       "      <td>67.0</td>\n",
       "      <td>2.0</td>\n",
       "    </tr>\n",
       "    <tr>\n",
       "      <th>3</th>\n",
       "      <td>5.0</td>\n",
       "      <td>3.0</td>\n",
       "      <td>2.0</td>\n",
       "      <td>1.0</td>\n",
       "      <td>1.0</td>\n",
       "      <td>1.0</td>\n",
       "      <td>1.0</td>\n",
       "      <td>2.0</td>\n",
       "      <td>2.0</td>\n",
       "      <td>1.0</td>\n",
       "      <td>...</td>\n",
       "      <td>4.0</td>\n",
       "      <td>3.0</td>\n",
       "      <td>3.0</td>\n",
       "      <td>4.0</td>\n",
       "      <td>4</td>\n",
       "      <td>1.0</td>\n",
       "      <td>22.0</td>\n",
       "      <td>172.0</td>\n",
       "      <td>59.0</td>\n",
       "      <td>1.0</td>\n",
       "    </tr>\n",
       "    <tr>\n",
       "      <th>4</th>\n",
       "      <td>5.0</td>\n",
       "      <td>3.0</td>\n",
       "      <td>4.0</td>\n",
       "      <td>3.0</td>\n",
       "      <td>2.0</td>\n",
       "      <td>4.0</td>\n",
       "      <td>3.0</td>\n",
       "      <td>5.0</td>\n",
       "      <td>3.0</td>\n",
       "      <td>1.0</td>\n",
       "      <td>...</td>\n",
       "      <td>3.0</td>\n",
       "      <td>4.0</td>\n",
       "      <td>3.0</td>\n",
       "      <td>3.0</td>\n",
       "      <td>2</td>\n",
       "      <td>4.0</td>\n",
       "      <td>20.0</td>\n",
       "      <td>170.0</td>\n",
       "      <td>59.0</td>\n",
       "      <td>1.0</td>\n",
       "    </tr>\n",
       "  </tbody>\n",
       "</table>\n",
       "<p>5 rows × 139 columns</p>\n",
       "</div>"
      ],
      "text/plain": [
       "   Music  Slow songs or fast songs  Dance  Folk  Country  Classical music  \\\n",
       "0    5.0                       3.0    2.0   1.0      2.0              2.0   \n",
       "1    4.0                       4.0    2.0   1.0      1.0              1.0   \n",
       "2    5.0                       5.0    2.0   2.0      3.0              4.0   \n",
       "3    5.0                       3.0    2.0   1.0      1.0              1.0   \n",
       "4    5.0                       3.0    4.0   3.0      2.0              4.0   \n",
       "\n",
       "   Musical  Pop  Rock  Metal or Hardrock         ...          \\\n",
       "0      1.0  5.0   5.0                1.0         ...           \n",
       "1      2.0  3.0   5.0                4.0         ...           \n",
       "2      5.0  3.0   5.0                3.0         ...           \n",
       "3      1.0  2.0   2.0                1.0         ...           \n",
       "4      3.0  5.0   3.0                1.0         ...           \n",
       "\n",
       "   Shopping centres  Branded clothing  Entertainment spending  \\\n",
       "0               4.0               5.0                     3.0   \n",
       "1               4.0               1.0                     4.0   \n",
       "2               4.0               1.0                     4.0   \n",
       "3               4.0               3.0                     3.0   \n",
       "4               3.0               4.0                     3.0   \n",
       "\n",
       "   Spending on looks  Spending on gadgets  Spending on healthy eating   Age  \\\n",
       "0                3.0                    1                         3.0  20.0   \n",
       "1                2.0                    5                         2.0  19.0   \n",
       "2                3.0                    4                         2.0  20.0   \n",
       "3                4.0                    4                         1.0  22.0   \n",
       "4                3.0                    2                         4.0  20.0   \n",
       "\n",
       "   Height  Weight  Number of siblings  \n",
       "0   163.0    48.0                 1.0  \n",
       "1   163.0    58.0                 2.0  \n",
       "2   176.0    67.0                 2.0  \n",
       "3   172.0    59.0                 1.0  \n",
       "4   170.0    59.0                 1.0  \n",
       "\n",
       "[5 rows x 139 columns]"
      ]
     },
     "execution_count": 2,
     "metadata": {},
     "output_type": "execute_result"
    }
   ],
   "source": [
    "# Reading the csv file using pandas\n",
    "data = pd.read_csv(\"responses.csv\")\n",
    "# Removing the rows that do not have any value for 'Empathy' column\n",
    "data = data[np.isfinite(data['Empathy'])]\n",
    "# Filling the missing values in the csv file with the mean of the column\n",
    "data = data.fillna(data.mean())\n",
    "# Removing the columns that do not have numerical values\n",
    "data = data.select_dtypes(exclude = [object])\n",
    "data.head()"
   ]
  },
  {
   "cell_type": "markdown",
   "metadata": {},
   "source": [
    "<b>Separating X and y:</b>"
   ]
  },
  {
   "cell_type": "code",
   "execution_count": 3,
   "metadata": {},
   "outputs": [],
   "source": [
    "y = data['Empathy'].values\n",
    "X = data.drop('Empathy', axis = 1)"
   ]
  },
  {
   "cell_type": "markdown",
   "metadata": {},
   "source": [
    "<h2>Part 2: Learning</h2>"
   ]
  },
  {
   "cell_type": "markdown",
   "metadata": {},
   "source": [
    "We first split the data into train/dev/test:"
   ]
  },
  {
   "cell_type": "code",
   "execution_count": 4,
   "metadata": {},
   "outputs": [],
   "source": [
    "# Using feature selectors to find the best possible features\n",
    "# relevant to out learning purpose. For now, let's assume 10 features gives\n",
    "# the best results. We will automate the process later and find\n",
    "# the optimal value for it later on when we apply our final model.\n",
    "X_new = SelectKBest(chi2, k = 10).fit_transform(X, y)\n",
    "\n",
    "# Splitting the data into train, dev and test datasets\n",
    "# approximately in the ratio of 60:20:20\n",
    "X_train, X_test, y_train, y_test = train_test_split(X_new, \n",
    "                                                    y, \n",
    "                                                    test_size=0.2, \n",
    "                                                    random_state=1)\n",
    "X_train, X_val, y_train, y_val = train_test_split(X_train, \n",
    "                                                  y_train, \n",
    "                                                  test_size=0.2, \n",
    "                                                  random_state=1)"
   ]
  },
  {
   "cell_type": "markdown",
   "metadata": {},
   "source": [
    "<b> Running a baseline classifier on the training data and validating it with dev set. The models being used are:<br>1. GausianNB<br>2. MultinomialNB<br>3. K-Nearest Neighbors<br>4. Decision trees<br>5. Multi Layer Perceptron</b>"
   ]
  },
  {
   "cell_type": "code",
   "execution_count": 5,
   "metadata": {},
   "outputs": [
    {
     "data": {
      "text/plain": [
       "0.39751552795031053"
      ]
     },
     "execution_count": 5,
     "metadata": {},
     "output_type": "execute_result"
    }
   ],
   "source": [
    "# Using Gaussian Naive Bayes\n",
    "classifier = GaussianNB()\n",
    "classifier = classifier.fit(X_train, y_train)\n",
    "predictions1 = classifier.predict(X_val)\n",
    "accuracy_score(y_val, predictions1)\n",
    "# ~39% accuracy"
   ]
  },
  {
   "cell_type": "code",
   "execution_count": 6,
   "metadata": {},
   "outputs": [
    {
     "data": {
      "text/plain": [
       "0.37267080745341613"
      ]
     },
     "execution_count": 6,
     "metadata": {},
     "output_type": "execute_result"
    }
   ],
   "source": [
    "# Using Multinomial Naive Bayes\n",
    "classifier = MultinomialNB()\n",
    "classifier = classifier.fit(X_train, y_train)\n",
    "predictions2 = classifier.predict(X_val)\n",
    "accuracy_score(y_val, predictions2)\n",
    "# ~37% accuracy"
   ]
  },
  {
   "cell_type": "code",
   "execution_count": 7,
   "metadata": {},
   "outputs": [
    {
     "data": {
      "text/plain": [
       "0.40372670807453415"
      ]
     },
     "execution_count": 7,
     "metadata": {},
     "output_type": "execute_result"
    }
   ],
   "source": [
    "# Using K-Nearest Neighbors\n",
    "classifier = KNeighborsClassifier(n_neighbors = 5)\n",
    "classifier = classifier.fit(X_train, y_train)\n",
    "predictions3 = classifier.predict(X_val)\n",
    "accuracy_score(y_val, predictions3)\n",
    "# ~40% accuracy"
   ]
  },
  {
   "cell_type": "code",
   "execution_count": 8,
   "metadata": {},
   "outputs": [
    {
     "data": {
      "text/plain": [
       "0.422360248447205"
      ]
     },
     "execution_count": 8,
     "metadata": {},
     "output_type": "execute_result"
    }
   ],
   "source": [
    "# Using Decision Trees\n",
    "classifier = tree.DecisionTreeClassifier(criterion='entropy', \n",
    "                                         splitter='best',\n",
    "                                         max_depth=2, min_samples_split=2, \n",
    "                                         min_samples_leaf=1, \n",
    "                                         min_weight_fraction_leaf=0.0, \n",
    "                                         max_features=None, \n",
    "                                         random_state=None, \n",
    "                                         max_leaf_nodes=None, \n",
    "                                         min_impurity_decrease=0.0, \n",
    "                                         min_impurity_split=None)\n",
    "classifier = classifier.fit(X_train, y_train)\n",
    "predictions4 = classifier.predict(X_val)\n",
    "accuracy_score(y_val, predictions4)    \n",
    "# ~42% accuracy"
   ]
  },
  {
   "cell_type": "code",
   "execution_count": 9,
   "metadata": {},
   "outputs": [
    {
     "data": {
      "text/plain": [
       "0.391304347826087"
      ]
     },
     "execution_count": 9,
     "metadata": {},
     "output_type": "execute_result"
    }
   ],
   "source": [
    "# Using Multi Layer Perceptron\n",
    "classifier = MLPClassifier(solver = 'lbfgs', alpha = 1e-5,\n",
    "                         hidden_layer_sizes = (5, 5), random_state = 1)\n",
    "classifier = classifier.fit(X_train, y_train)\n",
    "predictions5 = classifier.predict(X_val)\n",
    "accuracy_score(y_val, predictions5)    \n",
    "# ~39% accuracy"
   ]
  },
  {
   "cell_type": "markdown",
   "metadata": {},
   "source": [
    "There are 5 categories for classification in \"Empathy\", and a randomized function would at best give 20% accuracy. It can be assumed that the baseline classifiers are performing fairly well."
   ]
  },
  {
   "cell_type": "markdown",
   "metadata": {},
   "source": [
    "<h2>My Model:</h2><br>For my model, I trained 4 more models in addition to the ones mentioned above. These are SVM, Random Forest, AdaBoost and Logistic Regression and did applied Bagging to all except AdaBoost and Random Forest classifiers. Finally I stacked them up with a Voting classification ensemble using Hard Vote ensemble."
   ]
  },
  {
   "cell_type": "code",
   "execution_count": 10,
   "metadata": {},
   "outputs": [
    {
     "data": {
      "text/plain": [
       "0.43478260869565216"
      ]
     },
     "execution_count": 10,
     "metadata": {},
     "output_type": "execute_result"
    }
   ],
   "source": [
    "# Multinomial Naive Bayes\n",
    "clf1 = MultinomialNB()\n",
    "clf1 = clf1.fit(X_train, y_train)\n",
    "clf1 = BaggingClassifier(clf1)\n",
    "    \n",
    "# Multi-layer Perceptron\n",
    "clf2 = MLPClassifier(solver = 'lbfgs', alpha = 1e-2,\n",
    "                     hidden_layer_sizes = (25, 20), random_state = 1)\n",
    "clf2 = clf2.fit(X_train, y_train) \n",
    "clf2 = BaggingClassifier(clf2)\n",
    "   \n",
    "# SVC\n",
    "clf3 = SVC(C = 1.5)\n",
    "clf3 = clf3.fit(X_train, y_train)\n",
    "clf3 = BaggingClassifier(clf3)\n",
    "   \n",
    "# Decision tree\n",
    "clf4 = tree.DecisionTreeClassifier(criterion='entropy', splitter='best',\n",
    "                                   max_depth=2, min_samples_split=2, \n",
    "                                   min_samples_leaf=1, min_weight_fraction_leaf=0.0, \n",
    "                                   max_features=None, random_state=None, max_leaf_nodes=None, \n",
    "                                   min_impurity_decrease=0.0, min_impurity_split=None)\n",
    "clf4 = clf4.fit(X_train, y_train)\n",
    "clf4 = BaggingClassifier(clf4)\n",
    "   \n",
    "# Random Forest\n",
    "clf5 = RandomForestClassifier(max_depth = 5, random_state = 0)\n",
    "clf5 = clf5.fit(X_train, y_train)   \n",
    "  \n",
    "# KNN\n",
    "clf6 = KNeighborsClassifier(n_neighbors = 3)\n",
    "clf6 = clf6.fit(X_train, y_train)\n",
    "clf6 = BaggingClassifier(clf6)\n",
    "    \n",
    "# Gaussian Naive Bayes\n",
    "clf7 = GaussianNB()\n",
    "clf7 = clf7.fit(X_train, y_train)\n",
    "clf7 = BaggingClassifier(clf7)\n",
    "    \n",
    "# AdaBoost Classifier\n",
    "clf8 = AdaBoostClassifier(n_estimators = 100)\n",
    "clf8 = clf8.fit(X_train, y_train)\n",
    "  \n",
    "# Logistic Regression\n",
    "clf9 = LogisticRegression(random_state=1)\n",
    "clf9 = clf9.fit(X_train, y_train)\n",
    "clf9 = BaggingClassifier(clf9)\n",
    "   \n",
    "# Soft Vote ensemble\n",
    "clf = VotingClassifier(estimators = [('mnb', clf1), ('mlp', clf2), ('svc', clf3), \n",
    "                                     ('dt', clf4), ('rf', clf5), ('knn', clf6), \n",
    "                                     ('gnb', clf7), ('ab', clf8), ('lr', clf9)], voting = 'hard')\n",
    "clf = clf.fit(X_train, y_train)\n",
    "ensembled_accuracy = clf.predict(X_val)  \n",
    "accuracy_score(y_val, ensembled_accuracy)    \n",
    "# 43-45% accuracy"
   ]
  },
  {
   "cell_type": "markdown",
   "metadata": {},
   "source": [
    "And for test data,"
   ]
  },
  {
   "cell_type": "code",
   "execution_count": 11,
   "metadata": {},
   "outputs": [
    {
     "data": {
      "text/plain": [
       "0.44776119402985076"
      ]
     },
     "execution_count": 11,
     "metadata": {},
     "output_type": "execute_result"
    }
   ],
   "source": [
    "clf = clf.fit(X_train, y_train)\n",
    "ensembled_accuracy = clf.predict(X_test)  \n",
    "accuracy_score(y_test, ensembled_accuracy)\n",
    "# ~43% accuracy with 5-fold cross-validation"
   ]
  },
  {
   "cell_type": "markdown",
   "metadata": {},
   "source": [
    "We can see that ensembling all those methods gave us a stable and better performance than just using a single model."
   ]
  },
  {
   "cell_type": "markdown",
   "metadata": {},
   "source": [
    "<h2>Tuning the number of features selected</h2><br>Now we need to find out the optimal number of features needed to be used in training to get the best results. <br><br>For this, we'll need to convert our ensemble model into a function and loop over it with a different value of k in feature_selection and finding out a k which gives the highest accuracy. This k will be used for the final training and to make predictions on the test dataset."
   ]
  },
  {
   "cell_type": "code",
   "execution_count": 12,
   "metadata": {},
   "outputs": [],
   "source": [
    "# Function that runs my model and returns the accuracy after validation\n",
    "def ensemble(X_train, X_test, y_train, y_test):\n",
    "    # Multinomial Naive Bayes\n",
    "    clf1 = MultinomialNB()\n",
    "    clf1 = clf1.fit(X_train, y_train)\n",
    "    clf1 = BaggingClassifier(clf1)\n",
    "    \n",
    "    # Multi-layer Perceptron\n",
    "    clf2 = MLPClassifier(solver = 'lbfgs', alpha = 1e-2,\n",
    "                         hidden_layer_sizes = (25, 20), random_state = 1)\n",
    "    clf2 = clf2.fit(X_train, y_train) \n",
    "    clf2 = BaggingClassifier(clf2)\n",
    "    \n",
    "    # SVC\n",
    "    clf3 = SVC(C = 1.5)\n",
    "    clf3 = clf3.fit(X_train, y_train)\n",
    "    clf3 = BaggingClassifier(clf3)\n",
    "    \n",
    "    # Decision tree\n",
    "    clf4 = tree.DecisionTreeClassifier(criterion='entropy', splitter='best',\n",
    "                                       max_depth=2, min_samples_split=2, \n",
    "                                       min_samples_leaf=1, min_weight_fraction_leaf=0.0, \n",
    "                                       max_features=None, random_state=None, max_leaf_nodes=None, \n",
    "                                       min_impurity_decrease=0.0, min_impurity_split=None)\n",
    "    clf4 = clf4.fit(X_train, y_train)\n",
    "    clf4 = BaggingClassifier(clf4)\n",
    "    \n",
    "    # Random Forest\n",
    "    clf5 = RandomForestClassifier(max_depth = 5, random_state = 0)\n",
    "    clf5 = clf5.fit(X_train, y_train)   \n",
    "    \n",
    "    # KNN\n",
    "    clf6 = KNeighborsClassifier(n_neighbors = 3)\n",
    "    clf6 = clf6.fit(X_train, y_train)\n",
    "    clf6 = BaggingClassifier(clf6)\n",
    "    \n",
    "    # Gaussian Naive Bayes\n",
    "    clf7 = GaussianNB()\n",
    "    clf7 = clf7.fit(X_train, y_train)\n",
    "    clf7 = BaggingClassifier(clf7)\n",
    "    \n",
    "    # AdaBoost Classifier\n",
    "    clf8 = AdaBoostClassifier(n_estimators = 100)\n",
    "    clf8 = clf8.fit(X_train, y_train)\n",
    "    \n",
    "    # Logistic Regression\n",
    "    clf9 = LogisticRegression(random_state=1)\n",
    "    clf9 = clf9.fit(X_train, y_train)\n",
    "    clf9 = BaggingClassifier(clf9)\n",
    "    \n",
    "    # Soft Vote ensemble\n",
    "    clf = VotingClassifier(estimators = [\n",
    "            ('mnb', clf1), ('mlp', clf2), ('svc', clf3), ('dt', clf4), ('rf', clf5), ('knn', clf6), ('gnb', clf7), ('ab', clf8), ('lr', clf9)],\n",
    "           voting = 'hard')\n",
    "    clf = clf.fit(X_train, y_train)\n",
    "    \n",
    "    return(accuracy_score(y_test, clf.predict(X_test)))"
   ]
  },
  {
   "cell_type": "markdown",
   "metadata": {},
   "source": [
    "Now we write a function that calls ensemble() defined above over the training and validation data and returns the accuracy."
   ]
  },
  {
   "cell_type": "code",
   "execution_count": 13,
   "metadata": {},
   "outputs": [],
   "source": [
    "# Returns validation accuracy\n",
    "def runValidation(X, y):\n",
    "    X_train, X_test, y_train, y_test = train_test_split(X_new, y, test_size=0.2, random_state=1)\n",
    "    X_train, X_val, y_train, y_val = train_test_split(X_train, y_train, test_size=0.2, random_state=1)\n",
    "    ensembled = ensemble(X_train, X_val, y_train, y_val)                                                                                                                                                                   \n",
    "    #print(ensembled)\n",
    "    return ensembled"
   ]
  },
  {
   "cell_type": "markdown",
   "metadata": {},
   "source": [
    "Finally we write a simple loop to call runValidation() and store all accuracies in a list. The position of the highest accuracy in the array will be the value of k, i.e. the number of features to be selected."
   ]
  },
  {
   "cell_type": "code",
   "execution_count": 14,
   "metadata": {},
   "outputs": [
    {
     "name": "stdout",
     "output_type": "stream",
     "text": [
      "75\n",
      "0.4968944099378882\n"
     ]
    }
   ],
   "source": [
    "accuracy = []\n",
    "\n",
    "for i in range(1,20): # Taking steps of 5\n",
    "    X_new = SelectKBest(chi2, k = i * 5).fit_transform(X, y)\n",
    "    accuracy.append(runValidation(X_new, y))\n",
    "      \n",
    "best_accuracy_loc = accuracy.index(max(accuracy))+ 1 \n",
    "print(best_accuracy_loc * 5) # Variable value for k\n",
    "print(max(accuracy)) # Validation accuracy ~50%"
   ]
  },
  {
   "cell_type": "markdown",
   "metadata": {},
   "source": [
    "A plot of the trends followed by accuracy with increase in number of features:"
   ]
  },
  {
   "cell_type": "code",
   "execution_count": 15,
   "metadata": {},
   "outputs": [
    {
     "data": {
      "image/png": "[encoded data removed]",
      "text/plain": [
       "<Figure size 432x288 with 1 Axes>"
      ]
     },
     "metadata": {},
     "output_type": "display_data"
    }
   ],
   "source": [
    "plt.plot(accuracy)\n",
    "plt.ylabel('Accuracy')\n",
    "plt.xlabel('Number of features')\n",
    "plt.xticks([])\n",
    "plt.show()"
   ]
  },
  {
   "cell_type": "markdown",
   "metadata": {},
   "source": [
    "Now that we have a value for k that gets us result for validation data, we can use it to finally test our model on testing data."
   ]
  },
  {
   "cell_type": "markdown",
   "metadata": {},
   "source": [
    "<h2>Part 3: Testing</h2>"
   ]
  },
  {
   "cell_type": "code",
   "execution_count": 16,
   "metadata": {},
   "outputs": [
    {
     "data": {
      "text/plain": [
       "0.48756218905472637"
      ]
     },
     "execution_count": 16,
     "metadata": {},
     "output_type": "execute_result"
    }
   ],
   "source": [
    "X_new = SelectKBest(chi2, k = best_accuracy_loc * 5).fit_transform(X, y)\n",
    "X_train, X_test, y_train, y_test = train_test_split(X_new, y, test_size=0.2, random_state=1)\n",
    "X_train, X_val, y_train, y_val = train_test_split(X_train, y_train, test_size=0.2, random_state=1)\n",
    "ensemble(X_train, X_test, y_train, y_test)\n",
    "# Produces a test accuracy of >45%, which is better than the model with an untuned value of k"
   ]
  },
  {
   "cell_type": "code",
   "execution_count": null,
   "metadata": {},
   "outputs": [],
   "source": []
  }
 ],
 "metadata": {
  "kernelspec": {
   "display_name": "Python 3",
   "language": "python",
   "name": "python3"
  },
  "language_info": {
   "codemirror_mode": {
    "name": "ipython",
    "version": 3
   },
   "file_extension": ".py",
   "mimetype": "text/x-python",
   "name": "python",
   "nbconvert_exporter": "python",
   "pygments_lexer": "ipython3",
   "version": "3.6.4"
  }
 },
 "nbformat": 4,
 "nbformat_minor": 2
}
